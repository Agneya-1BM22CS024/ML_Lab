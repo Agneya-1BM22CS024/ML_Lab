{
  "nbformat": 4,
  "nbformat_minor": 0,
  "metadata": {
    "colab": {
      "provenance": [],
      "authorship_tag": "ABX9TyN9h27JQv61zeSJSbMu6kXf",
      "include_colab_link": true
    },
    "kernelspec": {
      "name": "python3",
      "display_name": "Python 3"
    },
    "language_info": {
      "name": "python"
    }
  },
  "cells": [
    {
      "cell_type": "markdown",
      "metadata": {
        "id": "view-in-github",
        "colab_type": "text"
      },
      "source": [
        "<a href=\"https://colab.research.google.com/github/Agneya-1BM22CS024/ML_Lab/blob/main/1BM22CS024_Lab_8_RF_ipynb.ipynb\" target=\"_parent\"><img src=\"https://colab.research.google.com/assets/colab-badge.svg\" alt=\"Open In Colab\"/></a>"
      ]
    },
    {
      "cell_type": "code",
      "source": [
        "import pandas as pd\n",
        "from sklearn.model_selection import train_test_split\n",
        "from sklearn.ensemble import RandomForestClassifier\n",
        "from sklearn.metrics import accuracy_score, confusion_matrix\n",
        "from sklearn import preprocessing\n",
        "\n",
        "# Load the dataset\n",
        "df = pd.read_csv('train.csv')\n",
        "\n",
        "\n",
        "# Assuming the last column is the target variable\n",
        "X = df.iloc[:, :-1]\n",
        "y = df.iloc[:, -1]\n",
        "\n",
        "\n",
        "# Convert non-numerical columns to numerical using Label Encoding\n",
        "for column in X.columns:\n",
        "    if X[column].dtype == 'object':\n",
        "      le = preprocessing.LabelEncoder()\n",
        "      X[column] = le.fit_transform(X[column])\n",
        "\n",
        "\n",
        "# Handle potential errors during data conversion\n",
        "if y.dtype == 'object':\n",
        "  le = preprocessing.LabelEncoder()\n",
        "  y = le.fit_transform(y)\n",
        "\n",
        "# Split the data into training and testing sets\n",
        "X_train, X_test, y_train, y_test = train_test_split(X, y, test_size=0.2, random_state=42)\n",
        "\n",
        "# Initialize and train the Random Forest classifier\n",
        "rf_classifier = RandomForestClassifier(random_state=42)\n",
        "rf_classifier.fit(X_train, y_train)\n",
        "\n",
        "# Make predictions on the test set\n",
        "y_pred = rf_classifier.predict(X_test)\n",
        "\n",
        "# Evaluate the model\n",
        "accuracy = accuracy_score(y_test, y_pred)\n",
        "conf_matrix = confusion_matrix(y_test, y_pred)\n",
        "\n",
        "print(f\"Accuracy: {accuracy}\")\n",
        "print(f\"Confusion Matrix:\\n{conf_matrix}\")"
      ],
      "metadata": {
        "colab": {
          "base_uri": "https://localhost:8080/"
        },
        "id": "WH_WUn4Kp_9i",
        "outputId": "af1a22e0-893e-4260-9e89-bc2dc94e5c55"
      },
      "execution_count": 1,
      "outputs": [
        {
          "output_type": "stream",
          "name": "stdout",
          "text": [
            "Accuracy: 0.8659217877094972\n",
            "Confusion Matrix:\n",
            "[[ 26   0  17]\n",
            " [  0  12   5]\n",
            " [  2   0 117]]\n"
          ]
        }
      ]
    },
    {
      "cell_type": "code",
      "source": [
        "import pandas as pd\n",
        "from sklearn.model_selection import train_test_split\n",
        "from sklearn.ensemble import RandomForestClassifier\n",
        "from sklearn.metrics import accuracy_score, confusion_matrix\n",
        "from sklearn import preprocessing\n",
        "\n",
        "# Load the dataset\n",
        "df = pd.read_csv('iris.csv')\n",
        "\n",
        "# Assuming the last column is the target variable\n",
        "X = df.iloc[:, :-1]\n",
        "y = df.iloc[:, -1]\n",
        "\n",
        "# Convert non-numerical columns to numerical using Label Encoding\n",
        "for column in X.columns:\n",
        "    if X[column].dtype == 'object':\n",
        "      le = preprocessing.LabelEncoder()\n",
        "      X[column] = le.fit_transform(X[column])\n",
        "\n",
        "# Handle potential errors during data conversion\n",
        "if y.dtype == 'object':\n",
        "  le = preprocessing.LabelEncoder()\n",
        "  y = le.fit_transform(y)\n",
        "\n",
        "# Split the data into training and testing sets\n",
        "X_train, X_test, y_train, y_test = train_test_split(X, y, test_size=0.2, random_state=42)\n",
        "\n",
        "# Initialize and train the Random Forest classifier with default n_estimators\n",
        "rf_classifier_default = RandomForestClassifier(random_state=42)\n",
        "rf_classifier_default.fit(X_train, y_train)\n",
        "\n",
        "# Make predictions and evaluate with default n_estimators\n",
        "y_pred_default = rf_classifier_default.predict(X_test)\n",
        "accuracy_default = accuracy_score(y_test, y_pred_default)\n",
        "print(f\"Accuracy with default n_estimators: {accuracy_default}\")\n",
        "\n",
        "# Fine-tune the model by changing n_estimators\n",
        "best_accuracy = 0\n",
        "best_n_estimators = 0\n",
        "for n_estimators in range(1, 101):  # Test n_estimators from 1 to 100\n",
        "    rf_classifier = RandomForestClassifier(n_estimators=n_estimators, random_state=42)\n",
        "    rf_classifier.fit(X_train, y_train)\n",
        "    y_pred = rf_classifier.predict(X_test)\n",
        "    accuracy = accuracy_score(y_test, y_pred)\n",
        "    if accuracy >= best_accuracy:\n",
        "        best_accuracy = accuracy\n",
        "        best_n_estimators = n_estimators\n",
        "\n",
        "print(f\"Best accuracy: {best_accuracy} with n_estimators = {best_n_estimators}\")"
      ],
      "metadata": {
        "colab": {
          "base_uri": "https://localhost:8080/"
        },
        "id": "bnS-l-Kyqb85",
        "outputId": "7959220a-e63a-4b38-fb2d-7d0d82f0cbb3"
      },
      "execution_count": 4,
      "outputs": [
        {
          "output_type": "stream",
          "name": "stdout",
          "text": [
            "Accuracy with default n_estimators: 1.0\n",
            "Best accuracy: 1.0 with n_estimators = 100\n"
          ]
        }
      ]
    },
    {
      "cell_type": "code",
      "source": [
        "import matplotlib.pyplot as plt\n",
        "from sklearn.metrics import roc_auc_score\n",
        "\n",
        "auc_scores = []\n",
        "n_estimators_values = [10, 20, 30]\n",
        "\n",
        "for n_estimators in n_estimators_values:\n",
        "    rf_classifier = RandomForestClassifier(n_estimators=n_estimators, random_state=42)\n",
        "    rf_classifier.fit(X_train, y_train)\n",
        "    y_pred_prob = rf_classifier.predict_proba(X_test)  # Probability of positive class\n",
        "    auc = roc_auc_score(y_test, y_pred_prob,multi_class='ovr')\n",
        "    auc_scores.append(auc)\n",
        "    print(f\"AUC with n_estimators={n_estimators}: {auc}\")\n",
        "\n",
        "# Plot AUC scores\n",
        "plt.figure(figsize=(8, 6))\n",
        "plt.plot(n_estimators_values, auc_scores, marker='o')\n",
        "plt.xlabel(\"n_estimators\")\n",
        "plt.ylabel(\"AUC Score\")\n",
        "plt.title(\"AUC Score vs. n_estimators\")\n",
        "plt.grid(True)\n",
        "plt.show()"
      ],
      "metadata": {
        "colab": {
          "base_uri": "https://localhost:8080/",
          "height": 616
        },
        "id": "bx8-Bre8sz2B",
        "outputId": "d373084e-b7d0-4617-a67f-033f4f672438"
      },
      "execution_count": 12,
      "outputs": [
        {
          "output_type": "stream",
          "name": "stdout",
          "text": [
            "AUC with n_estimators=10: 1.0\n",
            "AUC with n_estimators=20: 1.0\n",
            "AUC with n_estimators=30: 1.0\n"
          ]
        },
        {
          "output_type": "display_data",
          "data": {
            "text/plain": [
              "<Figure size 800x600 with 1 Axes>"
            ],
            "image/png": "[encoded data removed]"
          },
          "metadata": {}
        }
      ]
    },
    {
      "cell_type": "code",
      "source": [],
      "metadata": {
        "id": "kake3LSatkL5"
      },
      "execution_count": null,
      "outputs": []
    }
  ]
}